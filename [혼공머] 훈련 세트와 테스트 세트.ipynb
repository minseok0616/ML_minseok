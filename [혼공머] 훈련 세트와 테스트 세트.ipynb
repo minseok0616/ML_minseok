{
 "cells": [
  {
   "cell_type": "markdown",
   "metadata": {},
   "source": [
    "## 지도학습과 비지도 학습"
   ]
  },
  {
   "cell_type": "markdown",
   "metadata": {},
   "source": [
    "머신러닝 알고리즘은 크게 지도 학습과 비지도 학습으로 나눌 수 있습니다. 지도 학습 알고리즘은 훈련하기 위한 데이터와 정답이 필요합니다.\n",
    "지도 학습에서는 데이터와 정답을 **입력**과 **타깃**이라고 하고, 이 둘을 합쳐서 **훈련 데이터**라고 부릅니다.\n",
    "그리고 입력으로 사용된 길이와 무게같은 것들을 **특성**이라고 합니다.\n",
    "지도 학습은 정답(타깃)이 존재하기 때문에 알고리즘이 정답을 맞히는 것을 학습합니다. 그러나 **비지도 학습**은 타깃 없이 입력 데이터만 사용합니다. 이런 종류의 알고리즘은 정답을 사용하지 않으므로 무언가를 맞힐 수가 없습니다. 그 대신에 데이터를 잘 파악하거나 변형하는 데 도움을 줍니다."
   ]
  },
  {
   "cell_type": "code",
   "execution_count": null,
   "metadata": {},
   "outputs": [],
   "source": []
  }
 ],
 "metadata": {
  "kernelspec": {
   "display_name": "Python 3",
   "language": "python",
   "name": "python3"
  },
  "language_info": {
   "codemirror_mode": {
    "name": "ipython",
    "version": 3
   },
   "file_extension": ".py",
   "mimetype": "text/x-python",
   "name": "python",
   "nbconvert_exporter": "python",
   "pygments_lexer": "ipython3",
   "version": "3.6.9"
  }
 },
 "nbformat": 4,
 "nbformat_minor": 2
}
