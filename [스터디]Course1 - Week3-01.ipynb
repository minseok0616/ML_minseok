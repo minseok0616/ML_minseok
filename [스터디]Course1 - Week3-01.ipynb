{
 "cells": [
  {
   "cell_type": "markdown",
   "metadata": {},
   "source": [
    "## Convolutions and poolings"
   ]
  },
  {
   "cell_type": "markdown",
   "metadata": {},
   "source": [
    "convolution과 pooling을 코드로 보자\n",
    "\n",
    "해야 할것\n",
    "\n",
    "learn more about convolutions"
   ]
  },
  {
   "cell_type": "code",
   "execution_count": 3,
   "metadata": {},
   "outputs": [],
   "source": [
    "import tensorflow as tf"
   ]
  },
  {
   "cell_type": "code",
   "execution_count": 5,
   "metadata": {},
   "outputs": [],
   "source": [
    "model = tf.keras.models.Sequential([\n",
    "    tf.keras.layers.Conv2D(64, (3,3), activation = 'relu', \n",
    "                          input_shape =(28, 28, 1)),\n",
    "    tf.keras.layers.MaxPooling2D(2,2),\n",
    "    tf.keras.layers.Conv2D(64,(3,3),activation ='relu'),\n",
    "    tf.keras.layers.MaxPooling2D(2,2),\n",
    "    tf.keras.layers.Flatten(),\n",
    "    tf.keras.layers.Dense(128, activation = 'relu'),\n",
    "    tf.keras.layers.Dense(10, activation ='softmax')\n",
    "])"
   ]
  },
  {
   "cell_type": "markdown",
   "metadata": {},
   "source": [
    "###     tf.keras.layers.Conv2D(64, (3,3), activation = 'relu', input_shape =(28, 28, 1)),\n",
    "keras에게 64개의 필터를 만들라고 하는 것 이고 이 필터는 3 by 3의 성격을 가진다. \n",
    "activation은 relu인데 이는 음수 임을 뜻한다.\n",
    "input_shape는 28 by 28이고 마지막 부분의 1인 색 농도에 대해서 1바이트를 사용한다는 뜻이다. \n",
    "64개의 필터에 대해 궁금할 수가 있는데, 무작위는 아님을 알고 있으면 된다. 무작위는 아니고 앞서서 본 패턴 피팅과 유사한 방식으로 알려져있는 양호한 필터세트로 시작이 되며, 이 필터 세트로 부터 작동하는 필터 세트는 시간이 지남에 따라서 학습이 된다. "
   ]
  },
  {
   "cell_type": "markdown",
   "metadata": {},
   "source": [
    "### tf.keras.layers.MaxPooling2D(2,2),"
   ]
  },
  {
   "cell_type": "markdown",
   "metadata": {},
   "source": [
    "pooling layer를 만든다. 이것은 MaxPooling인데 왜냐하면 우리는 가장 큰 값을 봐야하기 때문이다. 우리는 two-by-two pool로 이것을 만든다. 그래서 각 4pixels마다 가장 큰 값이 살아 남을 것이다. "
   ]
  },
  {
   "cell_type": "markdown",
   "metadata": {},
   "source": [
    "### tf.keras.layers.Conv2D(64,(3,3),activation ='relu'), tf.keras.layers.MaxPooling2D(2,2),"
   ]
  },
  {
   "cell_type": "markdown",
   "metadata": {},
   "source": [
    "우리는 새로운 다른 convolutional layer와 MaxPooling layer를 add한다.\n",
    "이것을 통해 network가 위에 존재하는 것과 다른 set의 convolution을 배울 수 있고 size를 줄이기 위해 pool을 다시 하는 것이다. \n",
    "이러한 과정을 통해 더 더더욱 작아지게 만들었다. 4분의 1 , 또 4분의 1수즌으로 만들어져서 content가 굉장히 간소화 된다."
   ]
  },
  {
   "cell_type": "markdown",
   "metadata": {},
   "source": [
    "## Summary method"
   ]
  },
  {
   "cell_type": "markdown",
   "metadata": {},
   "source": [
    "summary method는 model의 layer들을 점검하고  convolution에서의 image들의 이동을 관찰한다."
   ]
  },
  {
   "cell_type": "code",
   "execution_count": 6,
   "metadata": {},
   "outputs": [
    {
     "name": "stdout",
     "output_type": "stream",
     "text": [
      "Model: \"sequential\"\n",
      "_________________________________________________________________\n",
      "Layer (type)                 Output Shape              Param #   \n",
      "=================================================================\n",
      "conv2d (Conv2D)              (None, 26, 26, 64)        640       \n",
      "_________________________________________________________________\n",
      "max_pooling2d (MaxPooling2D) (None, 13, 13, 64)        0         \n",
      "_________________________________________________________________\n",
      "conv2d_1 (Conv2D)            (None, 11, 11, 64)        36928     \n",
      "_________________________________________________________________\n",
      "max_pooling2d_1 (MaxPooling2 (None, 5, 5, 64)          0         \n",
      "_________________________________________________________________\n",
      "flatten (Flatten)            (None, 1600)              0         \n",
      "_________________________________________________________________\n",
      "dense (Dense)                (None, 128)               204928    \n",
      "_________________________________________________________________\n",
      "dense_1 (Dense)              (None, 10)                1290      \n",
      "=================================================================\n",
      "Total params: 243,786\n",
      "Trainable params: 243,786\n",
      "Non-trainable params: 0\n",
      "_________________________________________________________________\n"
     ]
    }
   ],
   "source": [
    "model.summary()"
   ]
  },
  {
   "cell_type": "markdown",
   "metadata": {},
   "source": [
    "이것이 결과 값인데, 우리는 여기서 data가 28 by 28이 아니라 26 by 26인것을 볼 수 있는데, 조금 이상하다고 느낄 수 있다. 그런데 이렇게 되는 이유는 우리가 필터를 3 by 3을 사용하기 때문이다. 3 by 3을 사용하게 되면 가장 바깥쪽은 필터를 쓸데 필요가 사라진다. 이러한 이유 때문에 행과 열이 2개씩 줄어 26 by 26이 된다. 그렇다면 만약에 5 by 5 필터를 사용하게 되면 얼마나 줄어 들게 될까? 바로 4개가 줄어들어 24 by 24 가 될 것이다. \n",
    "그 다음줄을 보면 max_pooling layer인데, 우리는 2 by 2로 지정하였기 떄문에 4개의 픽셀이 하나가 된다. 그러하여 13 by 13이 되게 된다. \n",
    "그 다음줄에 다시 convolution을 하게 되는데 첫번째 줄과 같은 이유로 줄게 되어 11 by 11이 된다. \n",
    "그 다음줄을 보면 다시 max_pooling layer이고 5 by 5가 된다. \n",
    "결국에 이전에 했던 Dense neural network와 동일한 모양을 가지지만, 이제 5 by 5를 받게 된다.\n",
    "flatten에서 25 픽셀을 64번 이기 때문에 25x64 = 1600이 나오게 되는 것이다. 그래서 flatten layer에서 1600개의 elements를 받게 된다. "
   ]
  },
  {
   "cell_type": "code",
   "execution_count": null,
   "metadata": {},
   "outputs": [],
   "source": []
  }
 ],
 "metadata": {
  "kernelspec": {
   "display_name": "Python 3",
   "language": "python",
   "name": "python3"
  },
  "language_info": {
   "codemirror_mode": {
    "name": "ipython",
    "version": 3
   },
   "file_extension": ".py",
   "mimetype": "text/x-python",
   "name": "python",
   "nbconvert_exporter": "python",
   "pygments_lexer": "ipython3",
   "version": "3.6.9"
  }
 },
 "nbformat": 4,
 "nbformat_minor": 2
}
